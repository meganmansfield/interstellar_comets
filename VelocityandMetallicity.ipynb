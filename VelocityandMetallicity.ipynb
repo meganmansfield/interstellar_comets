{
 "cells": [
  {
   "cell_type": "code",
   "execution_count": 1,
   "id": "574ed932",
   "metadata": {},
   "outputs": [],
   "source": [
    "import numpy as np\n",
    "import matplotlib.pyplot as plt"
   ]
  },
  {
   "cell_type": "code",
   "execution_count": 2,
   "id": "fa87b970",
   "metadata": {},
   "outputs": [
    {
     "data": {
      "image/png": "[encoded data removed]",
      "text/plain": [
       "<Figure size 432x288 with 1 Axes>"
      ]
     },
     "metadata": {
      "needs_background": "light"
     },
     "output_type": "display_data"
    }
   ],
   "source": [
    "#define fractions of B/A/F/G/K/M stars\n",
    "fB=1./6.\n",
    "fA=1./6.\n",
    "fF=1./6.\n",
    "fG=1./6.\n",
    "fK=1./6.\n",
    "fM=1./6.\n",
    "ageB=0.05 #Gyr\n",
    "ageA=0.5\n",
    "ageF=1.5\n",
    "ageG=5.\n",
    "ageK=13. #idk what to put for these because they stay on the main sequence for 50 Gyr\n",
    "ageM=13. #same with these but it's like 200 Gyr\n",
    "\n",
    "#for a population of 100 stars:\n",
    "nstars=1000\n",
    "speeds=np.zeros(nstars)\n",
    "metals=np.zeros(nstars)\n",
    "for i in np.arange(nstars):\n",
    "    #1. randomly draw stellar type/age\n",
    "    selectprob=np.random.rand()\n",
    "    #2. use age to draw metallicity and velocity from appropriate dispersion\n",
    "    if selectprob<fB:\n",
    "        age=ageB\n",
    "        sx=10. #km/s\n",
    "        sy=9.\n",
    "        sz=6.\n",
    "        metals[i]=0.1\n",
    "    elif selectprob<(fB+fA):\n",
    "        age=ageA\n",
    "        sx=15.\n",
    "        sy=9.\n",
    "        sz=9.\n",
    "        metals[i]=0.1\n",
    "    elif selectprob<(fB+fA+fF):\n",
    "        age=ageF\n",
    "        sx=24.\n",
    "        sy=13.\n",
    "        sz=10.\n",
    "        metals[i]=0.05\n",
    "    elif selectprob<(fB+fA+fF+fG):\n",
    "        age=ageG\n",
    "        sx=26.\n",
    "        sy=18.\n",
    "        sz=20.\n",
    "        metals[i]=0.0\n",
    "    elif selectprob<(fB+fA+fF+fG+fK):\n",
    "        age=ageK\n",
    "        sx=28.\n",
    "        sy=16.\n",
    "        sz=11.\n",
    "        metals[i]=-1.4\n",
    "    elif selectprob<(fB+fA+fF+fG+fK+fM):\n",
    "        age=ageM\n",
    "        sx=32.\n",
    "        sy=21.\n",
    "        sz=19.\n",
    "        metals[i]=-1.4\n",
    "    vx=np.random.normal(0,sx)\n",
    "    vy=np.random.normal(0,sy)\n",
    "    vz=np.random.normal(0,sz)\n",
    "    speed=np.sqrt(vx**2.+vy**2.+vz**2.)\n",
    "#     metallicity=0.0115*age-0.0836 #dex\n",
    "    speeds[i]=speed\n",
    "#     metals[i]=metallicity\n",
    "\n",
    "plt.figure()\n",
    "plt.scatter(metals,speeds)\n",
    "plt.show()"
   ]
  },
  {
   "cell_type": "code",
   "execution_count": null,
   "id": "6c77f98d",
   "metadata": {},
   "outputs": [],
   "source": []
  },
  {
   "cell_type": "code",
   "execution_count": null,
   "id": "2c158de2",
   "metadata": {},
   "outputs": [],
   "source": []
  }
 ],
 "metadata": {
  "kernelspec": {
   "display_name": "Python 3",
   "language": "python",
   "name": "python3"
  },
  "language_info": {
   "codemirror_mode": {
    "name": "ipython",
    "version": 3
   },
   "file_extension": ".py",
   "mimetype": "text/x-python",
   "name": "python",
   "nbconvert_exporter": "python",
   "pygments_lexer": "ipython3",
   "version": "3.6.8"
  }
 },
 "nbformat": 4,
 "nbformat_minor": 5
}
